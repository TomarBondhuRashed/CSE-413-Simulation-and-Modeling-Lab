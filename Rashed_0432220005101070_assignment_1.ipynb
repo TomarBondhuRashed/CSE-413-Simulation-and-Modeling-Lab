{
  "nbformat": 4,
  "nbformat_minor": 0,
  "metadata": {
    "colab": {
      "provenance": [],
      "authorship_tag": "ABX9TyM9l0a8eA9P6yLtmP4O13qU",
      "include_colab_link": true
    },
    "kernelspec": {
      "name": "python3",
      "display_name": "Python 3"
    },
    "language_info": {
      "name": "python"
    }
  },
  "cells": [
    {
      "cell_type": "markdown",
      "metadata": {
        "id": "view-in-github",
        "colab_type": "text"
      },
      "source": [
        "<a href=\"https://colab.research.google.com/github/TomarBondhuRashed/SIM_Lab2/blob/main/Rashed_0432220005101070_assignment_1.ipynb\" target=\"_parent\"><img src=\"https://colab.research.google.com/assets/colab-badge.svg\" alt=\"Open In Colab\"/></a>"
      ]
    },
    {
      "cell_type": "code",
      "execution_count": 2,
      "metadata": {
        "colab": {
          "base_uri": "https://localhost:8080/"
        },
        "id": "bIj2EKOFrEmK",
        "outputId": "fed4a4f1-a6b9-49c4-f66c-5cc9b8035c6d"
      },
      "outputs": [
        {
          "output_type": "stream",
          "name": "stdout",
          "text": [
            "Generated Exam Scores: [416 413 422 424 420 417 422 414 416 419 412 416]\n"
          ]
        }
      ],
      "source": [
        "# Import libraries\n",
        "import numpy as np\n",
        "import matplotlib.pyplot as plt\n",
        "import scipy.stats as stats\n",
        "\n",
        "k = 70   # <<--- CHANGE THIS VALUE with your student ID / phone number\n",
        "\n",
        "# Generate dataset of 12 exam scores\n",
        "np.random.seed(42)  # For reproducibility (you may remove this line)\n",
        "exam_scores = 60 + np.random.randint(0, 15, size=12) + (k * 5)\n",
        "print(\"Generated Exam Scores:\", exam_scores)"
      ]
    },
    {
      "cell_type": "code",
      "source": [
        "\n",
        "# Null Hypothesis (H0): Population mean = 65\n",
        "# Alternative Hypothesis (H1): Population mean ≠ 65\n",
        "mu = 65\n",
        "print(\"\\nH0: Population mean = 65\")\n",
        "print(\"H1: Population mean ≠ 65\")"
      ],
      "metadata": {
        "colab": {
          "base_uri": "https://localhost:8080/"
        },
        "id": "f5XX-OBAr15T",
        "outputId": "4100c5b9-bbc9-4ea7-ccbb-cc02df836d03"
      },
      "execution_count": 3,
      "outputs": [
        {
          "output_type": "stream",
          "name": "stdout",
          "text": [
            "\n",
            "H0: Population mean = 65\n",
            "H1: Population mean ≠ 65\n"
          ]
        }
      ]
    },
    {
      "cell_type": "code",
      "source": [
        "# Perform one-sample t-test\n",
        "t_stat, p_value = stats.ttest_1samp(exam_scores, mu)\n",
        "\n",
        "print(\"\\n--- One-Sample t-test Results ---\")\n",
        "print(f\"t-statistic = {t_stat:.4f}\")\n",
        "print(f\"p-value     = {p_value:.4f}\")"
      ],
      "metadata": {
        "colab": {
          "base_uri": "https://localhost:8080/"
        },
        "id": "-E1BkdOWr5E0",
        "outputId": "d32b60fc-c8c3-4fab-c651-5a9116530e97"
      },
      "execution_count": 4,
      "outputs": [
        {
          "output_type": "stream",
          "name": "stdout",
          "text": [
            "\n",
            "--- One-Sample t-test Results ---\n",
            "t-statistic = 319.3363\n",
            "p-value     = 0.0000\n"
          ]
        }
      ]
    },
    {
      "cell_type": "code",
      "source": [
        "# Calculate 95% Confidence Interval\n",
        "n = len(exam_scores)\n",
        "mean = np.mean(exam_scores)\n",
        "sem = stats.sem(exam_scores)   # standard error\n",
        "confidence = 0.95\n",
        "\n",
        "ci = stats.t.interval(confidence, df=n-1, loc=mean, scale=sem)\n",
        "\n",
        "print(\"\\n--- Confidence Interval ---\")\n",
        "print(f\"Sample Mean = {mean:.2f}\")\n",
        "print(f\"95% CI = {ci}\")\n"
      ],
      "metadata": {
        "colab": {
          "base_uri": "https://localhost:8080/"
        },
        "id": "Pnh0IwLXr9vk",
        "outputId": "9bd77b50-383c-4d60-e83f-b46904175d79"
      },
      "execution_count": 5,
      "outputs": [
        {
          "output_type": "stream",
          "name": "stdout",
          "text": [
            "\n",
            "--- Confidence Interval ---\n",
            "Sample Mean = 417.58\n",
            "95% CI = (np.float64(415.1531968659404), np.float64(420.0134698007262))\n"
          ]
        }
      ]
    },
    {
      "cell_type": "code",
      "source": [
        "\n",
        "# Dicision\n",
        "alpha = 0.05\n",
        "\n",
        "print(\"\\n--- Decision ---\")\n",
        "if p_value < alpha:\n",
        "    print(\"Reject H0 → Sample mean is significantly different from 65\")\n",
        "else:\n",
        "    print(\"Fail to Reject H0 → Sample mean is NOT significantly different from 65\")"
      ],
      "metadata": {
        "colab": {
          "base_uri": "https://localhost:8080/"
        },
        "id": "VkJHjmypsAME",
        "outputId": "d03a7dfc-2958-4937-980a-e3ca7d94cd13"
      },
      "execution_count": 6,
      "outputs": [
        {
          "output_type": "stream",
          "name": "stdout",
          "text": [
            "\n",
            "--- Decision ---\n",
            "Reject H0 → Sample mean is significantly different from 65\n"
          ]
        }
      ]
    },
    {
      "cell_type": "code",
      "source": [
        "# Plot sample mean with error bars (±1 SEM) and hypothesized mean\n",
        "plt.errorbar(1, mean, yerr=sem, fmt='o', capsize=5, label='Sample Mean (±1 SEM)')\n",
        "plt.axhline(mu, color='red', linestyle='--', label='Hypothesized Mean = 65')\n",
        "plt.xlim(0, 2)\n",
        "plt.ylabel(\"Exam Scores\")\n",
        "plt.title(\"One-Sample t-Test Visualization\")\n",
        "plt.legend()\n",
        "plt.show()"
      ],
      "metadata": {
        "colab": {
          "base_uri": "https://localhost:8080/",
          "height": 452
        },
        "id": "-YbFY2y2sETs",
        "outputId": "99cf15ae-30c6-47e5-eb4a-67334c964793"
      },
      "execution_count": 7,
      "outputs": [
        {
          "output_type": "display_data",
          "data": {
            "text/plain": [
              "<Figure size 640x480 with 1 Axes>"
            ],
            "image/png": "[encoded data removed]"
          },
          "metadata": {}
        }
      ]
    }
  ]
}