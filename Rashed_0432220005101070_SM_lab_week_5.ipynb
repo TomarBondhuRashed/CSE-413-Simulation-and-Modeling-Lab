{
  "nbformat": 4,
  "nbformat_minor": 0,
  "metadata": {
    "colab": {
      "provenance": [],
      "authorship_tag": "ABX9TyOA8+exC1GZCuzjNUrR5Oim",
      "include_colab_link": true
    },
    "kernelspec": {
      "name": "python3",
      "display_name": "Python 3"
    },
    "language_info": {
      "name": "python"
    }
  },
  "cells": [
    {
      "cell_type": "markdown",
      "metadata": {
        "id": "view-in-github",
        "colab_type": "text"
      },
      "source": [
        "<a href=\"https://colab.research.google.com/github/TomarBondhuRashed/SIM_Lab2/blob/main/Rashed_0432220005101070_SM_lab_week_5.ipynb\" target=\"_parent\"><img src=\"https://colab.research.google.com/assets/colab-badge.svg\" alt=\"Open In Colab\"/></a>"
      ]
    },
    {
      "cell_type": "code",
      "execution_count": 1,
      "metadata": {
        "id": "NpNr2sGHxvJm"
      },
      "outputs": [],
      "source": [
        "import numpy as np\n",
        "import scipy.stats as stats\n",
        "import matplotlib.pyplot as plt"
      ]
    },
    {
      "cell_type": "code",
      "source": [
        "# Step 1: Define the dataset (observed sample)\n",
        "data = np.array([5.2, 5.4, 5.1, 5.6, 5.3, 5.8])\n",
        "\n",
        "# Step 2: Define the population mean (hypothesized mean)\n",
        "population_mean = 5.5\n",
        "\n",
        "# Step 3: Perform the one-sample t-test\n",
        "t_statistic, p_value = stats.ttest_1samp(data, population_mean)\n",
        "ci = stats.t.interval(0.95, df=len(data)-1, loc=np.mean(data), scale=stats.sem(data))\n",
        "\n",
        "# Step 4: Display the results\n",
        "print(f'Sample Mean: {np.mean(data):.3f}')\n",
        "print(f'Hypothesized Population Mean: {population_mean:.3f}')\n",
        "print(f't-Statistic: {t_statistic:.3f}')\n",
        "print(f'Degrees of Freedom: {len(data) - 1}')\n",
        "print(f'p-Value: {p_value:.4f}')\n",
        "print(f'95% Confidence Interval: [{ci[0]:.3f}, {ci[1]:.3f}]')\n"
      ],
      "metadata": {
        "colab": {
          "base_uri": "https://localhost:8080/"
        },
        "id": "lg4lQmXGyGYo",
        "outputId": "c5932877-0bac-4867-99f8-f9559f4dcba3"
      },
      "execution_count": 5,
      "outputs": [
        {
          "output_type": "stream",
          "name": "stdout",
          "text": [
            "Sample Mean: 5.400\n",
            "Hypothesized Population Mean: 5.500\n",
            "t-Statistic: -0.939\n",
            "Degrees of Freedom: 5\n",
            "p-Value: 0.3907\n",
            "95% Confidence Interval: [5.126, 5.674]\n"
          ]
        }
      ]
    },
    {
      "cell_type": "code",
      "source": [
        "# Step 5: Conclusion\n",
        "alpha = 0.05\n",
        "if p_value < alpha:\n",
        "    print(f'Reject the null hypothesis: The sample mean is significantly different from {population_mean}.')\n",
        "else:\n",
        "    print(f'Fail to reject the null hypothesis: The sample mean is not significantly different from {population_mean}.')"
      ],
      "metadata": {
        "colab": {
          "base_uri": "https://localhost:8080/"
        },
        "id": "_tVac330yIHH",
        "outputId": "96b2cc33-183b-4a99-fba5-386738ec5f65"
      },
      "execution_count": 6,
      "outputs": [
        {
          "output_type": "stream",
          "name": "stdout",
          "text": [
            "Fail to reject the null hypothesis: The sample mean is not significantly different from 5.5.\n"
          ]
        }
      ]
    },
    {
      "cell_type": "code",
      "source": [
        "# Step 6: Visualize the data\n",
        "plt.figure()\n",
        "plt.bar(1, np.mean(data), color='skyblue', label='Sample Mean')\n",
        "plt.errorbar(1, np.mean(data), yerr=stats.sem(data), fmt='k', linewidth=1.5, capsize=5)\n",
        "plt.axhline(y=population_mean, color='r', linestyle='--', linewidth=1.5, label='Hypothesized Mean')\n",
        "plt.title('Sample Mean vs Hypothesized Mean')\n",
        "plt.xlim(0.5, 1.5)\n",
        "plt.xticks([])\n",
        "plt.ylabel('Mean Value')\n",
        "plt.legend()\n",
        "plt.grid(True)\n",
        "plt.show()"
      ],
      "metadata": {
        "colab": {
          "base_uri": "https://localhost:8080/",
          "height": 437
        },
        "id": "tOoXsP1OyM8_",
        "outputId": "85bc2d72-6fa3-4cf0-c4d7-605f49f86f55"
      },
      "execution_count": 7,
      "outputs": [
        {
          "output_type": "display_data",
          "data": {
            "text/plain": [
              "<Figure size 640x480 with 1 Axes>"
            ],
            "image/png": "[encoded data removed]"
          },
          "metadata": {}
        }
      ]
    }
  ]
}